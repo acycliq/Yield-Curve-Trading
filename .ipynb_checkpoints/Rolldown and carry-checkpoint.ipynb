{
 "cells": [
  {
   "cell_type": "code",
   "execution_count": 1,
   "metadata": {
    "collapsed": true
   },
   "outputs": [],
   "source": [
    "import pandas as pd\n",
    "import numpy as np\n",
    "from nss import NSS\n",
    "from utils import dbObj"
   ]
  },
  {
   "cell_type": "markdown",
   "metadata": {},
   "source": [
    "Select the dates for the holding period of the rolldown strategy. For this example we select a two year holding period and gilts with redemption date at least 20years"
   ]
  },
  {
   "cell_type": "code",
   "execution_count": 2,
   "metadata": {
    "collapsed": true
   },
   "outputs": [],
   "source": [
    "d0 = '04-Nov-2014' \n",
    "d1 = '04-Nov-2016' "
   ]
  },
  {
   "cell_type": "markdown",
   "metadata": {},
   "source": [
    "Get some gilts as of 04-Nov-2014"
   ]
  },
  {
   "cell_type": "code",
   "execution_count": 3,
   "metadata": {
    "collapsed": true
   },
   "outputs": [],
   "source": [
    "sqlStr = \" SELECT distinct ISIN_Code  FROM [Research].[dbo].[Gilts] \"\n",
    "sqlStr += \" where Close_of_Business_Date = '%s' \" % d0\n",
    "sqlStr += \" and datepart(year, Redemption_Date) >= 2034 \""
   ]
  },
  {
   "cell_type": "code",
   "execution_count": 4,
   "metadata": {
    "collapsed": false
   },
   "outputs": [],
   "source": [
    "engine = dbObj()\n",
    "connection = engine.connect()\n",
    "rs = pd.read_sql(sqlStr, connection)\n",
    "connection.dispose()"
   ]
  },
  {
   "cell_type": "markdown",
   "metadata": {},
   "source": [
    "Fetch the Nelson-Siegel-Svensson parameters to calculate the curve"
   ]
  },
  {
   "cell_type": "code",
   "execution_count": 5,
   "metadata": {
    "collapsed": false
   },
   "outputs": [],
   "source": [
    "sqlStr = \" SELECT * FROM Research.dbo.nss_coeff nss where Date = '%s' \" % d0\n",
    "nss_coeff = pd.read_sql(sqlStr, connection, index_col=['Date'])\n",
    "del nss_coeff.index.name\n",
    "coeff = nss_coeff.loc[d0].values"
   ]
  },
  {
   "cell_type": "markdown",
   "metadata": {},
   "source": [
    "Check the slope: If the 2yr yield is lower than the 10yr (which is usually the case) implement the rolldown strategy"
   ]
  },
  {
   "cell_type": "code",
   "execution_count": 6,
   "metadata": {
    "collapsed": true
   },
   "outputs": [],
   "source": [
    "nss = NSS(None, None)\n",
    "two_yr = nss.yield_curve([2], coeff)\n",
    "ten_yr = nss.yield_curve([10], coeff)"
   ]
  },
  {
   "cell_type": "markdown",
   "metadata": {},
   "source": [
    "For each gilt, calculate the return"
   ]
  },
  {
   "cell_type": "code",
   "execution_count": 7,
   "metadata": {
    "collapsed": false
   },
   "outputs": [
    {
     "name": "stdout",
     "output_type": "stream",
     "text": [
      "yes\n"
     ]
    }
   ],
   "source": [
    "if two_yr.values[0] < ten_yr.values[0]:\n",
    "    print 'Riding opportunity'\n",
    "    sqlStr = \" SELECT distinct g1.ISIN_Code, g1.Redemption_Date, \"\n",
    "    sqlStr += \" g1.Close_of_Business_Date as Position_open_date, \"\n",
    "    sqlStr += \" g2.Close_of_Business_Date as Position_close_date, \"  \n",
    "    sqlStr += \" (g2.Dirty_Price/g1.Dirty_Price-1) as ret \"\n",
    "    sqlStr += \" FROM [Research].[dbo].[Gilts] g1  \"\n",
    "    sqlStr += \" JOIN [Research].[dbo].[Gilts] g2 \"\n",
    "    sqlStr += \" ON g1.ISIN_Code = g2.ISIN_Code \"\n",
    "    sqlStr += \" AND g1.Redemption_Date = g2.Redemption_Date \"\n",
    "    sqlStr += \" AND g2.Close_of_Business_Date = '%s' \" % d1\n",
    "    sqlStr += \" WHERE g1.Close_of_Business_Date = '%s' \" % d0\n",
    "    sqlStr += \" AND datepart(year, g1.Redemption_Date) >= 2034 \"\n",
    "    sqlStr += \" ORDER by ISIN_Code \"\n",
    "    \n",
    "    rs = pd.read_sql(sqlStr, connection)\n",
    "    "
   ]
  },
  {
   "cell_type": "markdown",
   "metadata": {},
   "source": [
    "The mean return of the rolldown strategy (over the 2yr holding period) is:"
   ]
  },
  {
   "cell_type": "code",
   "execution_count": 8,
   "metadata": {
    "collapsed": false
   },
   "outputs": [
    {
     "data": {
      "text/plain": [
       "'Return is 41.892%'"
      ]
     },
     "execution_count": 8,
     "metadata": {},
     "output_type": "execute_result"
    }
   ],
   "source": [
    "\"Return is %2.3f%%\"  % (100*rs['ret'].mean())"
   ]
  },
  {
   "cell_type": "markdown",
   "metadata": {},
   "source": [
    "# Adjusting for duration. "
   ]
  },
  {
   "cell_type": "markdown",
   "metadata": {},
   "source": [
    "A rolldown strategy apart from expressing a view on the slope of the yield curve is also exposed to the level of the interest rates. To hedge against the duration risk we can create a portfolio which invests a part in an overnight cash account and the remaining in the rolldown gilt. If for example we plan to close the trade after 24months then the duration of the portfolio should match that of a 24mnth gilt"
   ]
  },
  {
   "cell_type": "markdown",
   "metadata": {},
   "source": [
    "$$D_{24m} = wD_{20yr} + (1-w)D_O$$"
   ]
  },
  {
   "cell_type": "markdown",
   "metadata": {},
   "source": [
    "Hence: $$ w = \\frac{D_{24m}-D_O}{D_{20yr}-D_O}$$"
   ]
  },
  {
   "cell_type": "markdown",
   "metadata": {},
   "source": [
    "For gilt strips and as a simple study case, we can assume that the 2yr and 20yr durations are 2 and 20 respectively. The overnight cash account has a duration of zero therefore $$ w=\\frac{2}{20} = 0.1$$"
   ]
  },
  {
   "cell_type": "markdown",
   "metadata": {},
   "source": [
    "The excess returns when you take into account the duration hedge will be $R = [wR_{rolldown}+(1-w)R_{cash}] - R_{24m}$ where $R_{rolldown}$ is the return of the rolldown strategy, $R_{cash}$ the overnight cash account return compounded for the holding period (24 months in this case) and $R_{24m}$ the return of a 2yr gilt. We see that the hedge has a very drastic effect on the excess returns"
   ]
  }
 ],
 "metadata": {
  "kernelspec": {
   "display_name": "Python 2",
   "language": "python",
   "name": "python2"
  },
  "language_info": {
   "codemirror_mode": {
    "name": "ipython",
    "version": 2
   },
   "file_extension": ".py",
   "mimetype": "text/x-python",
   "name": "python",
   "nbconvert_exporter": "python",
   "pygments_lexer": "ipython2",
   "version": "2.7.11"
  }
 },
 "nbformat": 4,
 "nbformat_minor": 0
}
