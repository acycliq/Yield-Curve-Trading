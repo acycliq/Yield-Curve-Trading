{
 "cells": [
  {
   "cell_type": "code",
   "execution_count": 1,
   "metadata": {
    "collapsed": true
   },
   "outputs": [],
   "source": [
    "import pandas as pd\n",
    "import numpy as np\n",
    "from utils import dbObj"
   ]
  },
  {
   "cell_type": "markdown",
   "metadata": {},
   "source": [
    "Get some data. Choose gilts with redemption date at least 2yrs. It seems the estimated yields do a better fit for these time horisons"
   ]
  },
  {
   "cell_type": "code",
   "execution_count": 2,
   "metadata": {
    "collapsed": true
   },
   "outputs": [],
   "source": [
    "sqlStr = \" select g.Close_of_Business_Date, g.ISIN_Code, g.Redemption_Date, \"\n",
    "sqlStr += \" g.Dirty_Price, g.Yield, y.[Estimated Yield], \"\n",
    "sqlStr += \" g.Yield-y.[Estimated Yield] as yield_diff \"\n",
    "sqlStr += \" from Research.dbo.gilts g \"\n",
    "sqlStr += \" left outer join [Research].[dbo].[est_yield] y \"\n",
    "sqlStr += \" on g.Close_of_Business_Date = y.Close_of_Business_Date \"\n",
    "sqlStr += \" and \"\n",
    "sqlStr += \" g.ISIN_Code = y.ISIN_Code \"\n",
    "sqlStr += \" and \"\n",
    "sqlStr += \" g.Redemption_Date = y.Redemption_Date \"\n",
    "sqlStr += \" where g.Close_of_Business_Date > '01-Nov-2012' \"\n",
    "sqlStr += \" and datediff(year, g.Close_of_Business_Date, g.Redemption_Date) >= 2 \""
   ]
  },
  {
   "cell_type": "code",
   "execution_count": 3,
   "metadata": {
    "collapsed": true
   },
   "outputs": [],
   "source": [
    "engine = dbObj()\n",
    "connection = engine.connect()"
   ]
  },
  {
   "cell_type": "code",
   "execution_count": 4,
   "metadata": {
    "collapsed": true
   },
   "outputs": [],
   "source": [
    "rs = pd.read_sql(sqlStr, connection, index_col=['Close_of_Business_Date', 'ISIN_Code'])\n",
    "connection.dispose()"
   ]
  },
  {
   "cell_type": "markdown",
   "metadata": {},
   "source": [
    "Get the residuals (ie how much the actual yield is above or below the fitted one)"
   ]
  },
  {
   "cell_type": "code",
   "execution_count": 5,
   "metadata": {
    "collapsed": true
   },
   "outputs": [],
   "source": [
    "resid = rs.drop(['Redemption_Date', 'Estimated Yield', 'Yield', 'Dirty_Price'], axis=1)\n",
    "resid = resid.unstack()\n",
    "del resid.index.name\n",
    "resid.columns = resid.columns.droplevel()\n",
    "resid.index = pd.to_datetime(resid.index)"
   ]
  },
  {
   "cell_type": "markdown",
   "metadata": {},
   "source": [
    "score: 1 if actual yield is above the fitted, -1 is observed yield is below"
   ]
  },
  {
   "cell_type": "code",
   "execution_count": 6,
   "metadata": {
    "collapsed": true
   },
   "outputs": [],
   "source": [
    "score = resid.apply(np.sign)"
   ]
  },
  {
   "cell_type": "markdown",
   "metadata": {},
   "source": [
    "Get the bond prices"
   ]
  },
  {
   "cell_type": "code",
   "execution_count": 7,
   "metadata": {
    "collapsed": true
   },
   "outputs": [],
   "source": [
    "p = rs.drop(['Redemption_Date', 'Estimated Yield', 'Yield', 'yield_diff'], axis=1)\n",
    "p = p.unstack()\n",
    "del p.index.name\n",
    "p.columns = p.columns.droplevel()\n",
    "p.index = pd.to_datetime(p.index)"
   ]
  },
  {
   "cell_type": "markdown",
   "metadata": {},
   "source": [
    "Bond returns"
   ]
  },
  {
   "cell_type": "code",
   "execution_count": 8,
   "metadata": {
    "collapsed": true
   },
   "outputs": [],
   "source": [
    "ret = p.pct_change()"
   ]
  },
  {
   "cell_type": "markdown",
   "metadata": {},
   "source": [
    "Partition the residuals into buckets"
   ]
  },
  {
   "cell_type": "code",
   "execution_count": 9,
   "metadata": {
    "collapsed": true
   },
   "outputs": [],
   "source": [
    "q = resid.apply(lambda x: pd.qcut(x, 5, labels=list(range(5))), axis=1)"
   ]
  },
  {
   "cell_type": "markdown",
   "metadata": {},
   "source": [
    "Keep only scores for the top and bottom buckets (ie those whose actual yield is too high (q=4) or too low (q=0) compared to the fitted yield)"
   ]
  },
  {
   "cell_type": "code",
   "execution_count": 10,
   "metadata": {
    "collapsed": true
   },
   "outputs": [],
   "source": [
    "score = score[(q == 0) | (q == 4)]"
   ]
  },
  {
   "cell_type": "markdown",
   "metadata": {},
   "source": [
    "Portfolio return for each day:\n",
    "For each gilt and for each day multiply the score with the next day's return. Then for each day, sum over the gilts"
   ]
  },
  {
   "cell_type": "code",
   "execution_count": 11,
   "metadata": {
    "collapsed": false
   },
   "outputs": [],
   "source": [
    "port_ret = score.shift().multiply(ret).sum(axis=1)"
   ]
  },
  {
   "cell_type": "markdown",
   "metadata": {},
   "source": [
    "Sharpe ratio"
   ]
  },
  {
   "cell_type": "code",
   "execution_count": 12,
   "metadata": {
    "collapsed": false
   },
   "outputs": [
    {
     "name": "stdout",
     "output_type": "stream",
     "text": [
      "Annualised sharpe ratio is -0.31\n"
     ]
    }
   ],
   "source": [
    "sr = np.mean(port_ret) / np.std(port_ret) * np.sqrt(250)\n",
    "print \"Annualised sharpe ratio is %2.2f\" % sr"
   ]
  },
  {
   "cell_type": "markdown",
   "metadata": {},
   "source": [
    "## Notes:\n",
    "* It is clear from the Sharpe ratio that the strategy doesnt seem to perform well.\n",
    "* For each day, the strategy splits the gilts into equally sized buckets based on how much the actual yield exceeds or falls behind the model fitted yield. Then it selects only the top and bottom buckets and assigns the score of 1 if actual yield is above the fitted or -1 is observed yield is below. Effectively this means that on each gilt you allocate the same amount of capital (lets say 1USD) and the long and short side will cancel each out since they contain equal number of securities. Hence the strategy is USD neutral. For that kind of daily rebalancing schemes another appropriate hedge would probably be beta hedging"
   ]
  }
 ],
 "metadata": {
  "kernelspec": {
   "display_name": "Python 2",
   "language": "python",
   "name": "python2"
  },
  "language_info": {
   "codemirror_mode": {
    "name": "ipython",
    "version": 2
   },
   "file_extension": ".py",
   "mimetype": "text/x-python",
   "name": "python",
   "nbconvert_exporter": "python",
   "pygments_lexer": "ipython2",
   "version": "2.7.11"
  }
 },
 "nbformat": 4,
 "nbformat_minor": 0
}
