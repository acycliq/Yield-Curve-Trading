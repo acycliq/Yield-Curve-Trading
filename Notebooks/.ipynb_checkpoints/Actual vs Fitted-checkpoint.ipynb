{
 "cells": [
  {
   "cell_type": "code",
   "execution_count": 2,
   "metadata": {
    "collapsed": false
   },
   "outputs": [],
   "source": [
    "import pandas as pd\n",
    "import numpy as np\n",
    "from utils import dbObj"
   ]
  },
  {
   "cell_type": "markdown",
   "metadata": {},
   "source": [
    "Get some data. Choose gilts with redemption date at least 2yrs. It seems the estimated yields do a better fit for these time horisons"
   ]
  },
  {
   "cell_type": "code",
   "execution_count": 3,
   "metadata": {
    "collapsed": true
   },
   "outputs": [],
   "source": [
    "sqlStr = \" select g.Close_of_Business_Date, g.ISIN_Code, g.Redemption_Date, \"\n",
    "sqlStr += \" g.Dirty_Price, g.Yield, y.[Estimated Yield], \"\n",
    "sqlStr += \" g.Yield-y.[Estimated Yield] as yield_diff \"\n",
    "sqlStr += \" from Research.dbo.gilts g \"\n",
    "sqlStr += \" left outer join [Research].[dbo].[est_yield] y \"\n",
    "sqlStr += \" on g.Close_of_Business_Date = y.Close_of_Business_Date \"\n",
    "sqlStr += \" and \"\n",
    "sqlStr += \" g.ISIN_Code = y.ISIN_Code \"\n",
    "sqlStr += \" and \"\n",
    "sqlStr += \" g.Redemption_Date = y.Redemption_Date \"\n",
    "sqlStr += \" where g.Close_of_Business_Date > '01-Nov-2012' \"\n",
    "sqlStr += \" and datediff(year, g.Close_of_Business_Date, g.Redemption_Date) >= 2 \""
   ]
  },
  {
   "cell_type": "code",
   "execution_count": 4,
   "metadata": {
    "collapsed": true
   },
   "outputs": [],
   "source": [
    "engine = dbObj()\n",
    "connection = engine.connect()"
   ]
  },
  {
   "cell_type": "code",
   "execution_count": 5,
   "metadata": {
    "collapsed": true
   },
   "outputs": [],
   "source": [
    "rs = pd.read_sql(sqlStr, connection, index_col=['Close_of_Business_Date', 'ISIN_Code'])\n",
    "connection.dispose()"
   ]
  },
  {
   "cell_type": "markdown",
   "metadata": {},
   "source": [
    "Get the residuals (ie how much the actual yield is above or below the fitted one)"
   ]
  },
  {
   "cell_type": "code",
   "execution_count": 6,
   "metadata": {
    "collapsed": true
   },
   "outputs": [],
   "source": [
    "resid = rs.drop(['Redemption_Date', 'Estimated Yield', 'Yield', 'Dirty_Price'], axis=1)\n",
    "resid = resid.unstack()\n",
    "del resid.index.name\n",
    "resid.columns = resid.columns.droplevel()\n",
    "resid.index = pd.to_datetime(resid.index)"
   ]
  },
  {
   "cell_type": "markdown",
   "metadata": {},
   "source": [
    "score: 1 if actual yield is above the fitted, -1 is observed yield is below"
   ]
  },
  {
   "cell_type": "code",
   "execution_count": 7,
   "metadata": {
    "collapsed": true
   },
   "outputs": [],
   "source": [
    "score = resid.apply(np.sign)"
   ]
  },
  {
   "cell_type": "markdown",
   "metadata": {},
   "source": [
    "Get the bond prices"
   ]
  },
  {
   "cell_type": "code",
   "execution_count": 8,
   "metadata": {
    "collapsed": true
   },
   "outputs": [],
   "source": [
    "p = rs.drop(['Redemption_Date', 'Estimated Yield', 'Yield', 'yield_diff'], axis=1)\n",
    "p = p.unstack()\n",
    "del p.index.name\n",
    "p.columns = p.columns.droplevel()\n",
    "p.index = pd.to_datetime(p.index)"
   ]
  },
  {
   "cell_type": "markdown",
   "metadata": {},
   "source": [
    "Bond returns"
   ]
  },
  {
   "cell_type": "code",
   "execution_count": 9,
   "metadata": {
    "collapsed": true
   },
   "outputs": [],
   "source": [
    "ret = p.pct_change()"
   ]
  },
  {
   "cell_type": "markdown",
   "metadata": {},
   "source": [
    "Partition the residuals into buckets"
   ]
  },
  {
   "cell_type": "code",
   "execution_count": 10,
   "metadata": {
    "collapsed": true
   },
   "outputs": [],
   "source": [
    "q = resid.apply(lambda x: pd.qcut(x, 5, labels=list(range(5))), axis=1)"
   ]
  },
  {
   "cell_type": "markdown",
   "metadata": {},
   "source": [
    "Keep only scores for the top and bottom buckets (ie those whose actual yield is too high (q=4) or too low (q=0) compared to the fitted yield)"
   ]
  },
  {
   "cell_type": "code",
   "execution_count": 11,
   "metadata": {
    "collapsed": true
   },
   "outputs": [],
   "source": [
    "score = score[(q == 0) | (q == 4)]"
   ]
  },
  {
   "cell_type": "code",
   "execution_count": 12,
   "metadata": {
    "collapsed": false
   },
   "outputs": [
    {
     "data": {
      "text/plain": [
       "[ISIN_Code  GB0000512359 GB0000513431 GB0000513654 GB0000513878 GB0000513985  \\\n",
       " 2012-11-02         True        False         True         True         True   \n",
       " 2012-11-05         True        False         True         True         True   \n",
       " 2012-11-06         True        False         True         True         True   \n",
       " 2012-11-07         True        False        False         True         True   \n",
       " 2012-11-08         True        False         True         True         True   \n",
       " 2012-11-09         True        False        False         True         True   \n",
       " 2012-11-12         True        False        False         True         True   \n",
       " 2012-11-13         True        False        False         True         True   \n",
       " 2012-11-14         True        False        False         True         True   \n",
       " 2012-11-15         True        False        False         True         True   \n",
       " 2012-11-16         True        False        False         True         True   \n",
       " 2012-11-19         True        False        False         True         True   \n",
       " 2012-11-20         True        False        False         True         True   \n",
       " 2012-11-21         True        False        False         True         True   \n",
       " 2012-11-22         True        False        False         True         True   \n",
       " 2012-11-23         True        False        False         True         True   \n",
       " 2012-11-26         True        False        False         True         True   \n",
       " 2012-11-27         True        False        False         True         True   \n",
       " 2012-11-28         True        False        False         True         True   \n",
       " 2012-11-29         True         True        False         True         True   \n",
       " 2012-11-30         True         True        False        False        False   \n",
       " 2012-12-03         True         True        False         True         True   \n",
       " 2012-12-04         True         True        False         True         True   \n",
       " 2012-12-05         True         True        False        False        False   \n",
       " 2012-12-06         True         True        False        False        False   \n",
       " 2012-12-07         True         True        False        False        False   \n",
       " 2012-12-10         True         True        False        False        False   \n",
       " 2012-12-11         True         True        False        False        False   \n",
       " 2012-12-12         True         True        False         True         True   \n",
       " 2012-12-13         True         True        False         True         True   \n",
       " ...                 ...          ...          ...          ...          ...   \n",
       " 2016-09-26        False        False        False        False        False   \n",
       " 2016-09-27        False        False        False        False        False   \n",
       " 2016-09-28        False        False        False        False        False   \n",
       " 2016-09-29        False        False        False        False        False   \n",
       " 2016-09-30        False        False        False        False        False   \n",
       " 2016-10-03        False        False        False        False        False   \n",
       " 2016-10-04        False        False        False        False        False   \n",
       " 2016-10-05        False        False        False        False        False   \n",
       " 2016-10-06        False        False        False        False        False   \n",
       " 2016-10-07        False        False        False        False        False   \n",
       " 2016-10-10        False        False        False        False        False   \n",
       " 2016-10-11        False        False        False        False        False   \n",
       " 2016-10-12        False        False        False        False        False   \n",
       " 2016-10-13        False        False        False        False        False   \n",
       " 2016-10-14        False        False        False        False        False   \n",
       " 2016-10-17        False        False        False        False        False   \n",
       " 2016-10-18        False        False        False        False        False   \n",
       " 2016-10-19        False        False        False        False        False   \n",
       " 2016-10-20        False        False        False        False        False   \n",
       " 2016-10-21        False        False        False        False        False   \n",
       " 2016-10-24        False        False        False        False        False   \n",
       " 2016-10-25        False        False        False        False        False   \n",
       " 2016-10-26        False        False        False        False        False   \n",
       " 2016-10-27        False        False        False        False        False   \n",
       " 2016-10-28        False        False        False        False        False   \n",
       " 2016-10-31        False        False        False        False        False   \n",
       " 2016-11-01        False        False        False        False        False   \n",
       " 2016-11-02        False        False        False        False        False   \n",
       " 2016-11-03        False        False        False        False        False   \n",
       " 2016-11-04        False        False        False        False        False   \n",
       " \n",
       " ISIN_Code  GB0000514280 GB0000514405 GB0000514512 GB0000514736 GB0000514843  \\\n",
       " 2012-11-02         True         True         True         True         True   \n",
       " 2012-11-05         True         True         True         True         True   \n",
       " 2012-11-06         True         True         True         True         True   \n",
       " 2012-11-07         True         True         True         True         True   \n",
       " 2012-11-08         True         True         True         True         True   \n",
       " 2012-11-09         True         True         True         True         True   \n",
       " 2012-11-12         True         True         True         True         True   \n",
       " 2012-11-13         True         True         True         True         True   \n",
       " 2012-11-14         True         True         True         True         True   \n",
       " 2012-11-15         True         True         True         True         True   \n",
       " 2012-11-16         True         True         True         True         True   \n",
       " 2012-11-19         True         True         True         True         True   \n",
       " 2012-11-20         True         True         True         True         True   \n",
       " 2012-11-21         True         True         True         True         True   \n",
       " 2012-11-22         True         True         True         True         True   \n",
       " 2012-11-23         True         True         True         True         True   \n",
       " 2012-11-26         True         True         True         True         True   \n",
       " 2012-11-27         True         True         True         True         True   \n",
       " 2012-11-28         True         True         True         True         True   \n",
       " 2012-11-29         True         True         True         True         True   \n",
       " 2012-11-30         True         True         True         True         True   \n",
       " 2012-12-03         True         True         True         True         True   \n",
       " 2012-12-04         True         True         True         True         True   \n",
       " 2012-12-05         True         True         True         True         True   \n",
       " 2012-12-06         True         True         True         True         True   \n",
       " 2012-12-07         True         True         True         True         True   \n",
       " 2012-12-10         True         True         True         True         True   \n",
       " 2012-12-11         True         True         True         True         True   \n",
       " 2012-12-12         True         True         True         True         True   \n",
       " 2012-12-13         True         True         True         True         True   \n",
       " ...                 ...          ...          ...          ...          ...   \n",
       " 2016-09-26        False        False        False        False        False   \n",
       " 2016-09-27        False        False        False        False        False   \n",
       " 2016-09-28        False        False        False        False        False   \n",
       " 2016-09-29        False        False        False        False        False   \n",
       " 2016-09-30        False        False        False        False        False   \n",
       " 2016-10-03        False        False        False        False        False   \n",
       " 2016-10-04        False        False        False        False        False   \n",
       " 2016-10-05        False        False        False        False        False   \n",
       " 2016-10-06        False        False        False        False        False   \n",
       " 2016-10-07        False        False        False        False        False   \n",
       " 2016-10-10        False        False        False        False        False   \n",
       " 2016-10-11        False        False        False        False        False   \n",
       " 2016-10-12        False        False        False        False        False   \n",
       " 2016-10-13        False        False        False        False        False   \n",
       " 2016-10-14        False        False        False        False        False   \n",
       " 2016-10-17        False        False        False        False        False   \n",
       " 2016-10-18        False        False        False        False        False   \n",
       " 2016-10-19        False        False        False        False        False   \n",
       " 2016-10-20        False        False        False        False        False   \n",
       " 2016-10-21        False        False        False        False        False   \n",
       " 2016-10-24        False        False        False        False        False   \n",
       " 2016-10-25        False        False        False        False        False   \n",
       " 2016-10-26        False        False        False        False        False   \n",
       " 2016-10-27        False        False        False        False        False   \n",
       " 2016-10-28        False        False        False        False        False   \n",
       " 2016-10-31        False        False        False        False        False   \n",
       " 2016-11-01        False        False        False        False        False   \n",
       " 2016-11-02        False        False        False        False        False   \n",
       " 2016-11-03        False        False        False        False        False   \n",
       " 2016-11-04        False        False        False        False        False   \n",
       " \n",
       " ISIN_Code      ...      GB00B61LFT72 GB00B61LFW02 GB00B61NVB70 GB00B61NVD94  \\\n",
       " 2012-11-02     ...             False        False        False        False   \n",
       " 2012-11-05     ...             False        False        False        False   \n",
       " 2012-11-06     ...             False        False        False        False   \n",
       " 2012-11-07     ...             False        False        False        False   \n",
       " 2012-11-08     ...             False        False        False        False   \n",
       " 2012-11-09     ...             False        False        False        False   \n",
       " 2012-11-12     ...             False        False        False        False   \n",
       " 2012-11-13     ...             False        False        False        False   \n",
       " 2012-11-14     ...             False        False        False        False   \n",
       " 2012-11-15     ...             False        False        False        False   \n",
       " 2012-11-16     ...             False        False        False        False   \n",
       " 2012-11-19     ...             False        False        False        False   \n",
       " 2012-11-20     ...             False        False        False        False   \n",
       " 2012-11-21     ...             False        False        False        False   \n",
       " 2012-11-22     ...             False        False        False        False   \n",
       " 2012-11-23     ...             False        False        False        False   \n",
       " 2012-11-26     ...             False         True         True        False   \n",
       " 2012-11-27     ...              True         True         True         True   \n",
       " 2012-11-28     ...             False         True         True        False   \n",
       " 2012-11-29     ...             False         True         True        False   \n",
       " 2012-11-30     ...             False         True         True        False   \n",
       " 2012-12-03     ...             False         True         True        False   \n",
       " 2012-12-04     ...             False        False         True        False   \n",
       " 2012-12-05     ...             False         True         True        False   \n",
       " 2012-12-06     ...             False         True         True        False   \n",
       " 2012-12-07     ...             False         True         True        False   \n",
       " 2012-12-10     ...             False         True         True        False   \n",
       " 2012-12-11     ...             False        False         True        False   \n",
       " 2012-12-12     ...             False        False        False        False   \n",
       " 2012-12-13     ...             False        False        False        False   \n",
       " ...            ...               ...          ...          ...          ...   \n",
       " 2016-09-26     ...              True         True         True         True   \n",
       " 2016-09-27     ...              True         True         True         True   \n",
       " 2016-09-28     ...              True         True         True         True   \n",
       " 2016-09-29     ...              True         True         True         True   \n",
       " 2016-09-30     ...              True         True         True         True   \n",
       " 2016-10-03     ...              True         True         True         True   \n",
       " 2016-10-04     ...              True         True         True         True   \n",
       " 2016-10-05     ...              True         True         True         True   \n",
       " 2016-10-06     ...              True         True         True         True   \n",
       " 2016-10-07     ...              True         True         True         True   \n",
       " 2016-10-10     ...              True         True         True         True   \n",
       " 2016-10-11     ...              True         True         True         True   \n",
       " 2016-10-12     ...              True         True         True         True   \n",
       " 2016-10-13     ...              True         True         True         True   \n",
       " 2016-10-14     ...              True         True         True         True   \n",
       " 2016-10-17     ...              True         True         True         True   \n",
       " 2016-10-18     ...              True         True         True         True   \n",
       " 2016-10-19     ...              True         True         True         True   \n",
       " 2016-10-20     ...              True         True         True         True   \n",
       " 2016-10-21     ...              True         True         True         True   \n",
       " 2016-10-24     ...              True         True         True         True   \n",
       " 2016-10-25     ...             False         True         True        False   \n",
       " 2016-10-26     ...             False         True         True        False   \n",
       " 2016-10-27     ...             False         True         True        False   \n",
       " 2016-10-28     ...             False         True         True        False   \n",
       " 2016-10-31     ...             False         True         True        False   \n",
       " 2016-11-01     ...             False         True         True        False   \n",
       " 2016-11-02     ...              True         True         True         True   \n",
       " 2016-11-03     ...              True         True         True         True   \n",
       " 2016-11-04     ...              True         True         True         True   \n",
       " \n",
       " ISIN_Code  GB00B61NZ372 GB00B79PS226 GB00B7Y41699 GB00BBR6CX43 GB00BLSNW788  \\\n",
       " 2012-11-02        False         True        False        False        False   \n",
       " 2012-11-05        False         True        False        False        False   \n",
       " 2012-11-06        False         True        False        False        False   \n",
       " 2012-11-07        False         True        False        False        False   \n",
       " 2012-11-08        False         True        False        False        False   \n",
       " 2012-11-09        False         True        False        False        False   \n",
       " 2012-11-12         True         True        False        False        False   \n",
       " 2012-11-13         True         True        False        False        False   \n",
       " 2012-11-14         True         True        False        False        False   \n",
       " 2012-11-15        False         True        False        False        False   \n",
       " 2012-11-16        False         True        False        False        False   \n",
       " 2012-11-19        False         True        False        False        False   \n",
       " 2012-11-20        False         True        False        False        False   \n",
       " 2012-11-21        False         True        False        False        False   \n",
       " 2012-11-22        False         True        False        False        False   \n",
       " 2012-11-23        False         True        False        False        False   \n",
       " 2012-11-26         True         True        False        False        False   \n",
       " 2012-11-27         True         True        False        False        False   \n",
       " 2012-11-28         True         True        False        False        False   \n",
       " 2012-11-29         True         True        False        False        False   \n",
       " 2012-11-30         True         True        False        False        False   \n",
       " 2012-12-03         True         True        False        False        False   \n",
       " 2012-12-04         True         True        False        False        False   \n",
       " 2012-12-05         True         True        False        False        False   \n",
       " 2012-12-06         True         True        False        False        False   \n",
       " 2012-12-07         True         True        False        False        False   \n",
       " 2012-12-10         True         True        False        False        False   \n",
       " 2012-12-11         True         True        False        False        False   \n",
       " 2012-12-12         True         True        False        False        False   \n",
       " 2012-12-13        False         True        False        False        False   \n",
       " ...                 ...          ...          ...          ...          ...   \n",
       " 2016-09-26         True        False        False        False        False   \n",
       " 2016-09-27         True        False        False        False        False   \n",
       " 2016-09-28         True        False        False        False        False   \n",
       " 2016-09-29         True        False        False        False        False   \n",
       " 2016-09-30         True        False        False        False        False   \n",
       " 2016-10-03         True        False        False        False        False   \n",
       " 2016-10-04         True        False        False        False        False   \n",
       " 2016-10-05         True        False        False        False         True   \n",
       " 2016-10-06         True        False        False        False         True   \n",
       " 2016-10-07         True        False        False        False         True   \n",
       " 2016-10-10         True        False        False        False         True   \n",
       " 2016-10-11         True        False        False        False         True   \n",
       " 2016-10-12         True        False        False        False         True   \n",
       " 2016-10-13         True        False        False        False         True   \n",
       " 2016-10-14         True        False        False        False         True   \n",
       " 2016-10-17         True        False        False        False         True   \n",
       " 2016-10-18         True        False        False        False         True   \n",
       " 2016-10-19         True        False        False        False         True   \n",
       " 2016-10-20         True        False        False        False         True   \n",
       " 2016-10-21         True        False        False        False         True   \n",
       " 2016-10-24         True        False        False        False         True   \n",
       " 2016-10-25         True        False        False        False         True   \n",
       " 2016-10-26         True        False        False        False         True   \n",
       " 2016-10-27         True        False        False         True         True   \n",
       " 2016-10-28         True        False        False        False         True   \n",
       " 2016-10-31         True        False        False        False         True   \n",
       " 2016-11-01         True        False        False        False         True   \n",
       " 2016-11-02         True        False        False        False         True   \n",
       " 2016-11-03         True        False        False        False         True   \n",
       " 2016-11-04         True        False        False        False         True   \n",
       " \n",
       " ISIN_Code  GB00BWXBPL93  \n",
       " 2012-11-02        False  \n",
       " 2012-11-05        False  \n",
       " 2012-11-06        False  \n",
       " 2012-11-07        False  \n",
       " 2012-11-08        False  \n",
       " 2012-11-09        False  \n",
       " 2012-11-12        False  \n",
       " 2012-11-13        False  \n",
       " 2012-11-14        False  \n",
       " 2012-11-15        False  \n",
       " 2012-11-16        False  \n",
       " 2012-11-19        False  \n",
       " 2012-11-20        False  \n",
       " 2012-11-21        False  \n",
       " 2012-11-22        False  \n",
       " 2012-11-23        False  \n",
       " 2012-11-26        False  \n",
       " 2012-11-27        False  \n",
       " 2012-11-28        False  \n",
       " 2012-11-29        False  \n",
       " 2012-11-30        False  \n",
       " 2012-12-03        False  \n",
       " 2012-12-04        False  \n",
       " 2012-12-05        False  \n",
       " 2012-12-06        False  \n",
       " 2012-12-07        False  \n",
       " 2012-12-10        False  \n",
       " 2012-12-11        False  \n",
       " 2012-12-12        False  \n",
       " 2012-12-13        False  \n",
       " ...                 ...  \n",
       " 2016-09-26         True  \n",
       " 2016-09-27         True  \n",
       " 2016-09-28         True  \n",
       " 2016-09-29         True  \n",
       " 2016-09-30         True  \n",
       " 2016-10-03         True  \n",
       " 2016-10-04         True  \n",
       " 2016-10-05         True  \n",
       " 2016-10-06         True  \n",
       " 2016-10-07         True  \n",
       " 2016-10-10         True  \n",
       " 2016-10-11         True  \n",
       " 2016-10-12         True  \n",
       " 2016-10-13         True  \n",
       " 2016-10-14         True  \n",
       " 2016-10-17         True  \n",
       " 2016-10-18         True  \n",
       " 2016-10-19         True  \n",
       " 2016-10-20         True  \n",
       " 2016-10-21         True  \n",
       " 2016-10-24         True  \n",
       " 2016-10-25         True  \n",
       " 2016-10-26         True  \n",
       " 2016-10-27         True  \n",
       " 2016-10-28         True  \n",
       " 2016-10-31         True  \n",
       " 2016-11-01         True  \n",
       " 2016-11-02         True  \n",
       " 2016-11-03         True  \n",
       " 2016-11-04         True  \n",
       " \n",
       " [1014 rows x 155 columns]]"
      ]
     },
     "execution_count": 12,
     "metadata": {},
     "output_type": "execute_result"
    }
   ],
   "source": [
    "[(q == 0) | (q == 4)]"
   ]
  },
  {
   "cell_type": "markdown",
   "metadata": {},
   "source": [
    "Portfolio return for each day:\n",
    "For each gilt and for each day multiply the score with the next day's return. Then for each day, sum over the gilts"
   ]
  },
  {
   "cell_type": "code",
   "execution_count": 11,
   "metadata": {
    "collapsed": false
   },
   "outputs": [],
   "source": [
    "port_ret = score.shift().multiply(ret).sum(axis=1)"
   ]
  },
  {
   "cell_type": "markdown",
   "metadata": {},
   "source": [
    "Sharpe ratio"
   ]
  },
  {
   "cell_type": "code",
   "execution_count": 12,
   "metadata": {
    "collapsed": false
   },
   "outputs": [
    {
     "name": "stdout",
     "output_type": "stream",
     "text": [
      "Annualised sharpe ratio is -0.31\n"
     ]
    }
   ],
   "source": [
    "sr = np.mean(port_ret) / np.std(port_ret) * np.sqrt(250)\n",
    "print \"Annualised sharpe ratio is %2.2f\" % sr"
   ]
  },
  {
   "cell_type": "markdown",
   "metadata": {},
   "source": [
    "## Notes:\n",
    "* It is clear from the Sharpe ratio that the strategy doesnt seem to perform well.\n",
    "* For each day, the strategy splits the gilts into equally sized buckets based on how much the actual yield exceeds or falls behind the model fitted yield. Then it selects only the top and bottom buckets and assigns the score of 1 if actual yield is above the fitted or -1 is observed yield is below. Effectively this means that on each gilt you allocate the same amount of capital (lets say 1USD) and the long and short side will cancel each out since they contain equal number of securities. Hence the strategy is USD neutral. For that kind of daily rebalancing schemes another appropriate hedge would probably be beta hedging"
   ]
  }
 ],
 "metadata": {
  "kernelspec": {
   "display_name": "Python 2",
   "language": "python",
   "name": "python2"
  },
  "language_info": {
   "codemirror_mode": {
    "name": "ipython",
    "version": 2
   },
   "file_extension": ".py",
   "mimetype": "text/x-python",
   "name": "python",
   "nbconvert_exporter": "python",
   "pygments_lexer": "ipython2",
   "version": "2.7.11"
  }
 },
 "nbformat": 4,
 "nbformat_minor": 0
}
