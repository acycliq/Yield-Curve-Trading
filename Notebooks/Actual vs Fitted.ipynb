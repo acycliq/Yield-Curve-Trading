{
 "cells": [
  {
   "cell_type": "markdown",
   "metadata": {},
   "source": [
    "# Actual vs Fitted"
   ]
  },
  {
   "cell_type": "code",
   "execution_count": 1,
   "metadata": {
    "collapsed": false
   },
   "outputs": [],
   "source": [
    "%matplotlib inline\n",
    "import pandas as pd\n",
    "import numpy as np\n",
    "from utils import dbObj"
   ]
  },
  {
   "cell_type": "markdown",
   "metadata": {},
   "source": [
    "Get some data. Choose gilts with redemption date at least 2 years. It seems the estimated yields do a better fit for these time horisons"
   ]
  },
  {
   "cell_type": "code",
   "execution_count": 2,
   "metadata": {
    "collapsed": true
   },
   "outputs": [],
   "source": [
    "sqlStr = \" select g.Close_of_Business_Date, g.ISIN_Code, g.Redemption_Date, \"\n",
    "sqlStr += \" g.Dirty_Price, g.Yield, y.[Estimated Yield], \"\n",
    "sqlStr += \" g.Yield-y.[Estimated Yield] as yield_diff \"\n",
    "sqlStr += \" from Research.dbo.gilts g \"\n",
    "sqlStr += \" left outer join [Research].[dbo].[est_yield] y \"\n",
    "sqlStr += \" on g.Close_of_Business_Date = y.Close_of_Business_Date \"\n",
    "sqlStr += \" and \"\n",
    "sqlStr += \" g.ISIN_Code = y.ISIN_Code \"\n",
    "sqlStr += \" and \"\n",
    "sqlStr += \" g.Redemption_Date = y.Redemption_Date \"\n",
    "sqlStr += \" where g.Close_of_Business_Date > '01-Nov-2012' \"\n",
    "sqlStr += \" and datediff(year, g.Close_of_Business_Date, g.Redemption_Date) >= 2 \""
   ]
  },
  {
   "cell_type": "code",
   "execution_count": 3,
   "metadata": {
    "collapsed": true
   },
   "outputs": [],
   "source": [
    "engine = dbObj()\n",
    "connection = engine.connect()"
   ]
  },
  {
   "cell_type": "code",
   "execution_count": 4,
   "metadata": {
    "collapsed": false
   },
   "outputs": [
    {
     "data": {
      "text/html": [
       "<div>\n",
       "<table border=\"1\" class=\"dataframe\">\n",
       "  <thead>\n",
       "    <tr style=\"text-align: right;\">\n",
       "      <th></th>\n",
       "      <th></th>\n",
       "      <th>Redemption_Date</th>\n",
       "      <th>Dirty_Price</th>\n",
       "      <th>Yield</th>\n",
       "      <th>Estimated Yield</th>\n",
       "      <th>yield_diff</th>\n",
       "    </tr>\n",
       "    <tr>\n",
       "      <th>Close_of_Business_Date</th>\n",
       "      <th>ISIN_Code</th>\n",
       "      <th></th>\n",
       "      <th></th>\n",
       "      <th></th>\n",
       "      <th></th>\n",
       "      <th></th>\n",
       "    </tr>\n",
       "  </thead>\n",
       "  <tbody>\n",
       "    <tr>\n",
       "      <th>2012-11-02</th>\n",
       "      <th>GB0000512359</th>\n",
       "      <td>2014-06-07</td>\n",
       "      <td>99.626667</td>\n",
       "      <td>0.235759</td>\n",
       "      <td>0.177817</td>\n",
       "      <td>0.057942</td>\n",
       "    </tr>\n",
       "    <tr>\n",
       "      <th>2012-11-05</th>\n",
       "      <th>GB0000512359</th>\n",
       "      <td>2014-06-07</td>\n",
       "      <td>99.673427</td>\n",
       "      <td>0.206523</td>\n",
       "      <td>0.144423</td>\n",
       "      <td>0.062100</td>\n",
       "    </tr>\n",
       "    <tr>\n",
       "      <th>2012-11-06</th>\n",
       "      <th>GB0000512359</th>\n",
       "      <td>2014-06-07</td>\n",
       "      <td>99.673061</td>\n",
       "      <td>0.207112</td>\n",
       "      <td>0.137145</td>\n",
       "      <td>0.069967</td>\n",
       "    </tr>\n",
       "    <tr>\n",
       "      <th>2012-11-07</th>\n",
       "      <th>GB0000512359</th>\n",
       "      <td>2014-06-07</td>\n",
       "      <td>99.695626</td>\n",
       "      <td>0.193122</td>\n",
       "      <td>0.111893</td>\n",
       "      <td>0.081229</td>\n",
       "    </tr>\n",
       "    <tr>\n",
       "      <th>2012-11-08</th>\n",
       "      <th>GB0000512359</th>\n",
       "      <td>2014-06-07</td>\n",
       "      <td>99.689181</td>\n",
       "      <td>0.197562</td>\n",
       "      <td>0.124483</td>\n",
       "      <td>0.073079</td>\n",
       "    </tr>\n",
       "  </tbody>\n",
       "</table>\n",
       "</div>"
      ],
      "text/plain": [
       "                                    Redemption_Date  Dirty_Price     Yield  \\\n",
       "Close_of_Business_Date ISIN_Code                                             \n",
       "2012-11-02             GB0000512359      2014-06-07    99.626667  0.235759   \n",
       "2012-11-05             GB0000512359      2014-06-07    99.673427  0.206523   \n",
       "2012-11-06             GB0000512359      2014-06-07    99.673061  0.207112   \n",
       "2012-11-07             GB0000512359      2014-06-07    99.695626  0.193122   \n",
       "2012-11-08             GB0000512359      2014-06-07    99.689181  0.197562   \n",
       "\n",
       "                                     Estimated Yield  yield_diff  \n",
       "Close_of_Business_Date ISIN_Code                                  \n",
       "2012-11-02             GB0000512359         0.177817    0.057942  \n",
       "2012-11-05             GB0000512359         0.144423    0.062100  \n",
       "2012-11-06             GB0000512359         0.137145    0.069967  \n",
       "2012-11-07             GB0000512359         0.111893    0.081229  \n",
       "2012-11-08             GB0000512359         0.124483    0.073079  "
      ]
     },
     "execution_count": 4,
     "metadata": {},
     "output_type": "execute_result"
    }
   ],
   "source": [
    "rs = pd.read_sql(sqlStr, connection, index_col=['Close_of_Business_Date', 'ISIN_Code'])\n",
    "connection.dispose()\n",
    "rs.head()"
   ]
  },
  {
   "cell_type": "markdown",
   "metadata": {},
   "source": [
    "Get the residuals (ie how much the actual yield is above or below the fitted one). To do this, from the rs dataframe drop all columns apart from 'Close_of_Business_Date', 'ISIN_Code' and 'yield_diff'"
   ]
  },
  {
   "cell_type": "code",
   "execution_count": 5,
   "metadata": {
    "collapsed": false
   },
   "outputs": [
    {
     "data": {
      "text/html": [
       "<div>\n",
       "<table border=\"1\" class=\"dataframe\">\n",
       "  <thead>\n",
       "    <tr style=\"text-align: right;\">\n",
       "      <th>ISIN_Code</th>\n",
       "      <th>GB0000512359</th>\n",
       "      <th>GB0000513431</th>\n",
       "      <th>GB0000513654</th>\n",
       "      <th>GB0000513878</th>\n",
       "    </tr>\n",
       "  </thead>\n",
       "  <tbody>\n",
       "    <tr>\n",
       "      <th>2012-11-02</th>\n",
       "      <td>0.057942</td>\n",
       "      <td>-0.007396</td>\n",
       "      <td>-0.057405</td>\n",
       "      <td>-0.093270</td>\n",
       "    </tr>\n",
       "    <tr>\n",
       "      <th>2012-11-05</th>\n",
       "      <td>0.062100</td>\n",
       "      <td>-0.007705</td>\n",
       "      <td>-0.061149</td>\n",
       "      <td>-0.099661</td>\n",
       "    </tr>\n",
       "    <tr>\n",
       "      <th>2012-11-06</th>\n",
       "      <td>0.069967</td>\n",
       "      <td>-0.002521</td>\n",
       "      <td>-0.058433</td>\n",
       "      <td>-0.099136</td>\n",
       "    </tr>\n",
       "    <tr>\n",
       "      <th>2012-11-07</th>\n",
       "      <td>0.081229</td>\n",
       "      <td>0.003053</td>\n",
       "      <td>-0.057583</td>\n",
       "      <td>-0.102323</td>\n",
       "    </tr>\n",
       "    <tr>\n",
       "      <th>2012-11-08</th>\n",
       "      <td>0.073079</td>\n",
       "      <td>-0.003694</td>\n",
       "      <td>-0.062885</td>\n",
       "      <td>-0.106072</td>\n",
       "    </tr>\n",
       "  </tbody>\n",
       "</table>\n",
       "</div>"
      ],
      "text/plain": [
       "ISIN_Code   GB0000512359  GB0000513431  GB0000513654  GB0000513878\n",
       "2012-11-02      0.057942     -0.007396     -0.057405     -0.093270\n",
       "2012-11-05      0.062100     -0.007705     -0.061149     -0.099661\n",
       "2012-11-06      0.069967     -0.002521     -0.058433     -0.099136\n",
       "2012-11-07      0.081229      0.003053     -0.057583     -0.102323\n",
       "2012-11-08      0.073079     -0.003694     -0.062885     -0.106072"
      ]
     },
     "execution_count": 5,
     "metadata": {},
     "output_type": "execute_result"
    }
   ],
   "source": [
    "resid = rs.drop(['Redemption_Date', 'Estimated Yield', 'Yield', 'Dirty_Price'], axis=1)\n",
    "resid = resid.unstack()\n",
    "del resid.index.name\n",
    "resid.columns = resid.columns.droplevel()\n",
    "resid.index = pd.to_datetime(resid.index)\n",
    "resid.iloc[:,:4].head() #show the first few"
   ]
  },
  {
   "cell_type": "markdown",
   "metadata": {},
   "source": [
    "Score: 1 if actual yield is above the fitted, -1 if actual yield is below"
   ]
  },
  {
   "cell_type": "code",
   "execution_count": 6,
   "metadata": {
    "collapsed": false
   },
   "outputs": [
    {
     "data": {
      "text/html": [
       "<div>\n",
       "<table border=\"1\" class=\"dataframe\">\n",
       "  <thead>\n",
       "    <tr style=\"text-align: right;\">\n",
       "      <th>ISIN_Code</th>\n",
       "      <th>GB0000512359</th>\n",
       "      <th>GB0000513431</th>\n",
       "      <th>GB0000513654</th>\n",
       "      <th>GB0000513878</th>\n",
       "    </tr>\n",
       "  </thead>\n",
       "  <tbody>\n",
       "    <tr>\n",
       "      <th>2012-11-02</th>\n",
       "      <td>1</td>\n",
       "      <td>-1</td>\n",
       "      <td>-1</td>\n",
       "      <td>-1</td>\n",
       "    </tr>\n",
       "    <tr>\n",
       "      <th>2012-11-05</th>\n",
       "      <td>1</td>\n",
       "      <td>-1</td>\n",
       "      <td>-1</td>\n",
       "      <td>-1</td>\n",
       "    </tr>\n",
       "    <tr>\n",
       "      <th>2012-11-06</th>\n",
       "      <td>1</td>\n",
       "      <td>-1</td>\n",
       "      <td>-1</td>\n",
       "      <td>-1</td>\n",
       "    </tr>\n",
       "    <tr>\n",
       "      <th>2012-11-07</th>\n",
       "      <td>1</td>\n",
       "      <td>1</td>\n",
       "      <td>-1</td>\n",
       "      <td>-1</td>\n",
       "    </tr>\n",
       "    <tr>\n",
       "      <th>2012-11-08</th>\n",
       "      <td>1</td>\n",
       "      <td>-1</td>\n",
       "      <td>-1</td>\n",
       "      <td>-1</td>\n",
       "    </tr>\n",
       "  </tbody>\n",
       "</table>\n",
       "</div>"
      ],
      "text/plain": [
       "ISIN_Code   GB0000512359  GB0000513431  GB0000513654  GB0000513878\n",
       "2012-11-02             1            -1            -1            -1\n",
       "2012-11-05             1            -1            -1            -1\n",
       "2012-11-06             1            -1            -1            -1\n",
       "2012-11-07             1             1            -1            -1\n",
       "2012-11-08             1            -1            -1            -1"
      ]
     },
     "execution_count": 6,
     "metadata": {},
     "output_type": "execute_result"
    }
   ],
   "source": [
    "score = resid.apply(np.sign)\n",
    "score.iloc[:,:4].head() #show the first few"
   ]
  },
  {
   "cell_type": "markdown",
   "metadata": {},
   "source": [
    "Get the bond prices (from the rs dataframe drop all columns apart from 'Close_of_Business_Date', 'ISIN_Code' and 'Dirty_Price')"
   ]
  },
  {
   "cell_type": "code",
   "execution_count": 7,
   "metadata": {
    "collapsed": false
   },
   "outputs": [
    {
     "data": {
      "text/html": [
       "<div>\n",
       "<table border=\"1\" class=\"dataframe\">\n",
       "  <thead>\n",
       "    <tr style=\"text-align: right;\">\n",
       "      <th>ISIN_Code</th>\n",
       "      <th>GB0000512359</th>\n",
       "      <th>GB0000513431</th>\n",
       "      <th>GB0000513654</th>\n",
       "      <th>GB0000513878</th>\n",
       "    </tr>\n",
       "  </thead>\n",
       "  <tbody>\n",
       "    <tr>\n",
       "      <th>2012-11-02</th>\n",
       "      <td>99.626667</td>\n",
       "      <td>99.388662</td>\n",
       "      <td>99.063452</td>\n",
       "      <td>98.634031</td>\n",
       "    </tr>\n",
       "    <tr>\n",
       "      <th>2012-11-05</th>\n",
       "      <td>99.673427</td>\n",
       "      <td>99.460420</td>\n",
       "      <td>99.162296</td>\n",
       "      <td>98.761110</td>\n",
       "    </tr>\n",
       "    <tr>\n",
       "      <th>2012-11-06</th>\n",
       "      <td>99.673061</td>\n",
       "      <td>99.464810</td>\n",
       "      <td>99.173234</td>\n",
       "      <td>98.779825</td>\n",
       "    </tr>\n",
       "    <tr>\n",
       "      <th>2012-11-07</th>\n",
       "      <td>99.695626</td>\n",
       "      <td>99.510227</td>\n",
       "      <td>99.246322</td>\n",
       "      <td>98.884646</td>\n",
       "    </tr>\n",
       "    <tr>\n",
       "      <th>2012-11-08</th>\n",
       "      <td>99.689181</td>\n",
       "      <td>99.500004</td>\n",
       "      <td>99.231464</td>\n",
       "      <td>98.864063</td>\n",
       "    </tr>\n",
       "  </tbody>\n",
       "</table>\n",
       "</div>"
      ],
      "text/plain": [
       "ISIN_Code   GB0000512359  GB0000513431  GB0000513654  GB0000513878\n",
       "2012-11-02     99.626667     99.388662     99.063452     98.634031\n",
       "2012-11-05     99.673427     99.460420     99.162296     98.761110\n",
       "2012-11-06     99.673061     99.464810     99.173234     98.779825\n",
       "2012-11-07     99.695626     99.510227     99.246322     98.884646\n",
       "2012-11-08     99.689181     99.500004     99.231464     98.864063"
      ]
     },
     "execution_count": 7,
     "metadata": {},
     "output_type": "execute_result"
    }
   ],
   "source": [
    "p = rs.drop(['Redemption_Date', 'Estimated Yield', 'Yield', 'yield_diff'], axis=1)\n",
    "p = p.unstack()\n",
    "del p.index.name\n",
    "p.columns = p.columns.droplevel()\n",
    "p.index = pd.to_datetime(p.index)\n",
    "p.iloc[:,:4].head() #show the first few"
   ]
  },
  {
   "cell_type": "markdown",
   "metadata": {},
   "source": [
    "Bond returns"
   ]
  },
  {
   "cell_type": "code",
   "execution_count": 8,
   "metadata": {
    "collapsed": false
   },
   "outputs": [
    {
     "data": {
      "text/html": [
       "<div>\n",
       "<table border=\"1\" class=\"dataframe\">\n",
       "  <thead>\n",
       "    <tr style=\"text-align: right;\">\n",
       "      <th>ISIN_Code</th>\n",
       "      <th>GB0000512359</th>\n",
       "      <th>GB0000513431</th>\n",
       "      <th>GB0000513654</th>\n",
       "      <th>GB0000513878</th>\n",
       "    </tr>\n",
       "  </thead>\n",
       "  <tbody>\n",
       "    <tr>\n",
       "      <th>2012-11-02</th>\n",
       "      <td>NaN</td>\n",
       "      <td>NaN</td>\n",
       "      <td>NaN</td>\n",
       "      <td>NaN</td>\n",
       "    </tr>\n",
       "    <tr>\n",
       "      <th>2012-11-05</th>\n",
       "      <td>0.000469</td>\n",
       "      <td>0.000722</td>\n",
       "      <td>0.000998</td>\n",
       "      <td>0.001288</td>\n",
       "    </tr>\n",
       "    <tr>\n",
       "      <th>2012-11-06</th>\n",
       "      <td>-0.000004</td>\n",
       "      <td>0.000044</td>\n",
       "      <td>0.000110</td>\n",
       "      <td>0.000189</td>\n",
       "    </tr>\n",
       "    <tr>\n",
       "      <th>2012-11-07</th>\n",
       "      <td>0.000226</td>\n",
       "      <td>0.000457</td>\n",
       "      <td>0.000737</td>\n",
       "      <td>0.001061</td>\n",
       "    </tr>\n",
       "    <tr>\n",
       "      <th>2012-11-08</th>\n",
       "      <td>-0.000065</td>\n",
       "      <td>-0.000103</td>\n",
       "      <td>-0.000150</td>\n",
       "      <td>-0.000208</td>\n",
       "    </tr>\n",
       "  </tbody>\n",
       "</table>\n",
       "</div>"
      ],
      "text/plain": [
       "ISIN_Code   GB0000512359  GB0000513431  GB0000513654  GB0000513878\n",
       "2012-11-02           NaN           NaN           NaN           NaN\n",
       "2012-11-05      0.000469      0.000722      0.000998      0.001288\n",
       "2012-11-06     -0.000004      0.000044      0.000110      0.000189\n",
       "2012-11-07      0.000226      0.000457      0.000737      0.001061\n",
       "2012-11-08     -0.000065     -0.000103     -0.000150     -0.000208"
      ]
     },
     "execution_count": 8,
     "metadata": {},
     "output_type": "execute_result"
    }
   ],
   "source": [
    "ret = p.pct_change()\n",
    "ret.iloc[:,:4].head() #show the first few"
   ]
  },
  {
   "cell_type": "markdown",
   "metadata": {},
   "source": [
    "Partition the residuals into buckets"
   ]
  },
  {
   "cell_type": "code",
   "execution_count": 9,
   "metadata": {
    "collapsed": false
   },
   "outputs": [
    {
     "data": {
      "text/html": [
       "<div>\n",
       "<table border=\"1\" class=\"dataframe\">\n",
       "  <thead>\n",
       "    <tr style=\"text-align: right;\">\n",
       "      <th>ISIN_Code</th>\n",
       "      <th>GB0000512359</th>\n",
       "      <th>GB0000513431</th>\n",
       "      <th>GB0000513654</th>\n",
       "      <th>GB0000513878</th>\n",
       "    </tr>\n",
       "  </thead>\n",
       "  <tbody>\n",
       "    <tr>\n",
       "      <th>2012-11-02</th>\n",
       "      <td>4</td>\n",
       "      <td>1</td>\n",
       "      <td>0</td>\n",
       "      <td>0</td>\n",
       "    </tr>\n",
       "    <tr>\n",
       "      <th>2012-11-05</th>\n",
       "      <td>4</td>\n",
       "      <td>1</td>\n",
       "      <td>0</td>\n",
       "      <td>0</td>\n",
       "    </tr>\n",
       "    <tr>\n",
       "      <th>2012-11-06</th>\n",
       "      <td>4</td>\n",
       "      <td>1</td>\n",
       "      <td>0</td>\n",
       "      <td>0</td>\n",
       "    </tr>\n",
       "    <tr>\n",
       "      <th>2012-11-07</th>\n",
       "      <td>4</td>\n",
       "      <td>2</td>\n",
       "      <td>1</td>\n",
       "      <td>0</td>\n",
       "    </tr>\n",
       "    <tr>\n",
       "      <th>2012-11-08</th>\n",
       "      <td>4</td>\n",
       "      <td>1</td>\n",
       "      <td>0</td>\n",
       "      <td>0</td>\n",
       "    </tr>\n",
       "  </tbody>\n",
       "</table>\n",
       "</div>"
      ],
      "text/plain": [
       "ISIN_Code   GB0000512359  GB0000513431  GB0000513654  GB0000513878\n",
       "2012-11-02             4             1             0             0\n",
       "2012-11-05             4             1             0             0\n",
       "2012-11-06             4             1             0             0\n",
       "2012-11-07             4             2             1             0\n",
       "2012-11-08             4             1             0             0"
      ]
     },
     "execution_count": 9,
     "metadata": {},
     "output_type": "execute_result"
    }
   ],
   "source": [
    "q = resid.apply(lambda x: pd.qcut(x, 5, labels=list(range(5))), axis=1)\n",
    "q.iloc[:,:4].head() #show the first few"
   ]
  },
  {
   "cell_type": "markdown",
   "metadata": {},
   "source": [
    "Keep only scores for the top and bottom buckets (ie those whose actual yield is very high (q=4) or very low (q=0) compared to the fitted yield)"
   ]
  },
  {
   "cell_type": "code",
   "execution_count": 10,
   "metadata": {
    "collapsed": false
   },
   "outputs": [
    {
     "data": {
      "text/html": [
       "<div>\n",
       "<table border=\"1\" class=\"dataframe\">\n",
       "  <thead>\n",
       "    <tr style=\"text-align: right;\">\n",
       "      <th>ISIN_Code</th>\n",
       "      <th>GB0000512359</th>\n",
       "      <th>GB0000513431</th>\n",
       "      <th>GB0000513654</th>\n",
       "      <th>GB0000513878</th>\n",
       "    </tr>\n",
       "  </thead>\n",
       "  <tbody>\n",
       "    <tr>\n",
       "      <th>2012-11-02</th>\n",
       "      <td>1</td>\n",
       "      <td>NaN</td>\n",
       "      <td>-1</td>\n",
       "      <td>-1</td>\n",
       "    </tr>\n",
       "    <tr>\n",
       "      <th>2012-11-05</th>\n",
       "      <td>1</td>\n",
       "      <td>NaN</td>\n",
       "      <td>-1</td>\n",
       "      <td>-1</td>\n",
       "    </tr>\n",
       "    <tr>\n",
       "      <th>2012-11-06</th>\n",
       "      <td>1</td>\n",
       "      <td>NaN</td>\n",
       "      <td>-1</td>\n",
       "      <td>-1</td>\n",
       "    </tr>\n",
       "    <tr>\n",
       "      <th>2012-11-07</th>\n",
       "      <td>1</td>\n",
       "      <td>NaN</td>\n",
       "      <td>NaN</td>\n",
       "      <td>-1</td>\n",
       "    </tr>\n",
       "    <tr>\n",
       "      <th>2012-11-08</th>\n",
       "      <td>1</td>\n",
       "      <td>NaN</td>\n",
       "      <td>-1</td>\n",
       "      <td>-1</td>\n",
       "    </tr>\n",
       "  </tbody>\n",
       "</table>\n",
       "</div>"
      ],
      "text/plain": [
       "ISIN_Code   GB0000512359  GB0000513431  GB0000513654  GB0000513878\n",
       "2012-11-02             1           NaN            -1            -1\n",
       "2012-11-05             1           NaN            -1            -1\n",
       "2012-11-06             1           NaN            -1            -1\n",
       "2012-11-07             1           NaN           NaN            -1\n",
       "2012-11-08             1           NaN            -1            -1"
      ]
     },
     "execution_count": 10,
     "metadata": {},
     "output_type": "execute_result"
    }
   ],
   "source": [
    "score = score[(q == 0) | (q == 4)]\n",
    "score.iloc[:,:4].head() #show the first few"
   ]
  },
  {
   "cell_type": "markdown",
   "metadata": {},
   "source": [
    "Portfolio PnL for each day:\n",
    "For each gilt and for each day multiply the score with the next day's return. Then for each day, sum over the gilts"
   ]
  },
  {
   "cell_type": "code",
   "execution_count": 11,
   "metadata": {
    "collapsed": false
   },
   "outputs": [
    {
     "data": {
      "image/png": "[encoded data removed]",
      "text/plain": [
       "<matplotlib.figure.Figure at 0x11560c210>"
      ]
     },
     "metadata": {},
     "output_type": "display_data"
    }
   ],
   "source": [
    "port_pnl = score.shift().multiply(ret).sum(axis=1)\n",
    "port_pnl.cumsum().plot(title='PnL: Cumulative Sum')\n",
    "port_pnl.to_clipboard()"
   ]
  },
  {
   "cell_type": "markdown",
   "metadata": {},
   "source": [
    "Sharpe ratio:"
   ]
  },
  {
   "cell_type": "code",
   "execution_count": 12,
   "metadata": {
    "collapsed": false
   },
   "outputs": [
    {
     "name": "stdout",
     "output_type": "stream",
     "text": [
      "Annualised Sharpe ratio is -0.31\n"
     ]
    }
   ],
   "source": [
    "sr = np.mean(port_pnl) / np.std(port_pnl) * np.sqrt(250)\n",
    "print \"Annualised Sharpe ratio is %2.2f\" % sr"
   ]
  },
  {
   "cell_type": "markdown",
   "metadata": {},
   "source": [
    "# Notes:\n",
    "* It is clear from the Sharpe ratio that the strategy doesnt seem to perform well.\n",
    "* For each day, the strategy splits the gilts into equally sized buckets based on how much the actual yield exceeds or falls behind the model fitted yield. Then it selects only the top and bottom buckets and assigns the score of 1 if actual yield is above the fitted or -1 if observed yield is below. Effectively this means that on each gilt you allocate the same amount of capital and the long and short side will cancel each out since they contain equal number of securities. Hence the strategy is USD neutral. "
   ]
  }
 ],
 "metadata": {
  "kernelspec": {
   "display_name": "Python 2",
   "language": "python",
   "name": "python2"
  },
  "language_info": {
   "codemirror_mode": {
    "name": "ipython",
    "version": 2
   },
   "file_extension": ".py",
   "mimetype": "text/x-python",
   "name": "python",
   "nbconvert_exporter": "python",
   "pygments_lexer": "ipython2",
   "version": "2.7.11"
  }
 },
 "nbformat": 4,
 "nbformat_minor": 0
}
